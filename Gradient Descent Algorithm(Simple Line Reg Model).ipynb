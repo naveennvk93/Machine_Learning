{
 "cells": [
  {
   "cell_type": "code",
   "execution_count": 1,
   "metadata": {},
   "outputs": [],
   "source": [
    "import numpy as np\n",
    "import pandas as pd\n",
    "import matplotlib.pyplot as plt\n",
    "import math\n",
    "import random"
   ]
  },
  {
   "cell_type": "code",
   "execution_count": 2,
   "metadata": {},
   "outputs": [],
   "source": [
    "x = np.array([1,2,3,4,5,6,7,8,9,10])\n",
    "y = np.array([1,8,12,16,20,24,28,32,36,40])\n",
    "x = np.reshape(x,(10,1))\n",
    "y = np.reshape(y,(10,1))"
   ]
  },
  {
   "cell_type": "code",
   "execution_count": 3,
   "metadata": {},
   "outputs": [],
   "source": [
    "beta = np.array([[1],[0]])"
   ]
  },
  {
   "cell_type": "code",
   "execution_count": 4,
   "metadata": {},
   "outputs": [],
   "source": [
    "def Pred_Val(x,y,beta):\n",
    "    df_x = np.column_stack(((np.ones((len(x),1),dtype=int)),x))\n",
    "    out_df = df_x.dot(beta)\n",
    "    return df_x,out_df"
   ]
  },
  {
   "cell_type": "code",
   "execution_count": 5,
   "metadata": {},
   "outputs": [],
   "source": [
    "def cost_fun(y,y_pred):\n",
    "    mse = sum((y-y_pred)**2)/len(y)\n",
    "    return mse"
   ]
  },
  {
   "cell_type": "code",
   "execution_count": 6,
   "metadata": {},
   "outputs": [],
   "source": [
    "x_new,y_new = Pred_Val(x,y,beta)"
   ]
  },
  {
   "cell_type": "code",
   "execution_count": 7,
   "metadata": {},
   "outputs": [],
   "source": [
    "Mean_Sqr_Err = cost_fun(y,y_new)"
   ]
  },
  {
   "cell_type": "code",
   "execution_count": 8,
   "metadata": {},
   "outputs": [
    {
     "data": {
      "text/plain": [
       "array([572.1])"
      ]
     },
     "execution_count": 8,
     "metadata": {},
     "output_type": "execute_result"
    }
   ],
   "source": [
    "Mean_Sqr_Err"
   ]
  },
  {
   "cell_type": "code",
   "execution_count": 9,
   "metadata": {},
   "outputs": [],
   "source": [
    "def delta_val(in_df,out_df,out_df_new):\n",
    "    delta = (in_df.transpose().dot(out_df-out_df_new))/len(in_df)\n",
    "    return delta"
   ]
  },
  {
   "cell_type": "code",
   "execution_count": 10,
   "metadata": {},
   "outputs": [
    {
     "data": {
      "text/plain": [
       "array([[ 20.7],\n",
       "       [148.2]])"
      ]
     },
     "execution_count": 10,
     "metadata": {},
     "output_type": "execute_result"
    }
   ],
   "source": [
    "delta_val(x_new,y,y_new)"
   ]
  },
  {
   "cell_type": "code",
   "execution_count": 15,
   "metadata": {},
   "outputs": [],
   "source": [
    "def fun_train(in_df,out_df,ler_rate,itr,conv):\n",
    "    b0 = -1\n",
    "    b1 = 2\n",
    "    beta = np.array([[b0],[b1]])\n",
    "    perr = 0\n",
    "    for i in range(1,itr+1):\n",
    "        #beta = np.array([[b0],[b1]])\n",
    "        x1,y1 = Pred_Val(in_df,out_df,beta)\n",
    "        cerr = cost_fun(out_df,y1)\n",
    "        diff = abs(perr-cerr)\n",
    "        if i%50 ==0:\n",
    "            print('cerr {} at iteration {}'.format(cerr,i))\n",
    "        j = 0\n",
    "        if (diff <= conv):\n",
    "            print('Training Done at {} iteration and mse is {},perr is {} and diff is {}'.format(i,cerr,perr,diff))\n",
    "            j = 1\n",
    "            break\n",
    "        delta = delta_val(x1,out_df,y1)\n",
    "        beta = beta + (ler_rate*delta)\n",
    "        perr = cerr\n",
    "    if (j==0):\n",
    "        print('Training is not yet done and iterations are completed and Mean Square Error is: {}'.format(cerr))\n",
    "    return beta"
   ]
  },
  {
   "cell_type": "code",
   "execution_count": 17,
   "metadata": {},
   "outputs": [
    {
     "name": "stdout",
     "output_type": "stream",
     "text": [
      "cerr [0.63277448] at iteration 50\n",
      "cerr [0.62449312] at iteration 100\n",
      "cerr [0.61778171] at iteration 150\n",
      "Training Done at 196 iteration and mse is [0.61273692],perr is [0.61283654] and diff is [9.96160204e-05]\n"
     ]
    }
   ],
   "source": [
    "coef = fun_train(x,y,0.01,100000,0.0001)"
   ]
  },
  {
   "cell_type": "code",
   "execution_count": 26,
   "metadata": {},
   "outputs": [
    {
     "data": {
      "text/plain": [
       "array([[-0.86783151],\n",
       "       [ 4.1159235 ]])"
      ]
     },
     "execution_count": 26,
     "metadata": {},
     "output_type": "execute_result"
    }
   ],
   "source": [
    "coef"
   ]
  },
  {
   "cell_type": "code",
   "execution_count": 18,
   "metadata": {},
   "outputs": [],
   "source": [
    "y_new_f = x_new.dot(coef)"
   ]
  },
  {
   "cell_type": "code",
   "execution_count": 25,
   "metadata": {},
   "outputs": [
    {
     "data": {
      "text/html": [
       "<div>\n",
       "<style scoped>\n",
       "    .dataframe tbody tr th:only-of-type {\n",
       "        vertical-align: middle;\n",
       "    }\n",
       "\n",
       "    .dataframe tbody tr th {\n",
       "        vertical-align: top;\n",
       "    }\n",
       "\n",
       "    .dataframe thead th {\n",
       "        text-align: right;\n",
       "    }\n",
       "</style>\n",
       "<table border=\"1\" class=\"dataframe\">\n",
       "  <thead>\n",
       "    <tr style=\"text-align: right;\">\n",
       "      <th></th>\n",
       "      <th>y_init</th>\n",
       "      <th>y_pred_inint</th>\n",
       "      <th>y_pred_f</th>\n",
       "    </tr>\n",
       "  </thead>\n",
       "  <tbody>\n",
       "    <tr>\n",
       "      <th>0</th>\n",
       "      <td>1</td>\n",
       "      <td>1</td>\n",
       "      <td>3.248092</td>\n",
       "    </tr>\n",
       "    <tr>\n",
       "      <th>1</th>\n",
       "      <td>8</td>\n",
       "      <td>1</td>\n",
       "      <td>7.364015</td>\n",
       "    </tr>\n",
       "    <tr>\n",
       "      <th>2</th>\n",
       "      <td>12</td>\n",
       "      <td>1</td>\n",
       "      <td>11.479939</td>\n",
       "    </tr>\n",
       "    <tr>\n",
       "      <th>3</th>\n",
       "      <td>16</td>\n",
       "      <td>1</td>\n",
       "      <td>15.595862</td>\n",
       "    </tr>\n",
       "    <tr>\n",
       "      <th>4</th>\n",
       "      <td>20</td>\n",
       "      <td>1</td>\n",
       "      <td>19.711786</td>\n",
       "    </tr>\n",
       "    <tr>\n",
       "      <th>5</th>\n",
       "      <td>24</td>\n",
       "      <td>1</td>\n",
       "      <td>23.827709</td>\n",
       "    </tr>\n",
       "    <tr>\n",
       "      <th>6</th>\n",
       "      <td>28</td>\n",
       "      <td>1</td>\n",
       "      <td>27.943633</td>\n",
       "    </tr>\n",
       "    <tr>\n",
       "      <th>7</th>\n",
       "      <td>32</td>\n",
       "      <td>1</td>\n",
       "      <td>32.059556</td>\n",
       "    </tr>\n",
       "    <tr>\n",
       "      <th>8</th>\n",
       "      <td>36</td>\n",
       "      <td>1</td>\n",
       "      <td>36.175480</td>\n",
       "    </tr>\n",
       "    <tr>\n",
       "      <th>9</th>\n",
       "      <td>40</td>\n",
       "      <td>1</td>\n",
       "      <td>40.291403</td>\n",
       "    </tr>\n",
       "  </tbody>\n",
       "</table>\n",
       "</div>"
      ],
      "text/plain": [
       "   y_init  y_pred_inint   y_pred_f\n",
       "0       1             1   3.248092\n",
       "1       8             1   7.364015\n",
       "2      12             1  11.479939\n",
       "3      16             1  15.595862\n",
       "4      20             1  19.711786\n",
       "5      24             1  23.827709\n",
       "6      28             1  27.943633\n",
       "7      32             1  32.059556\n",
       "8      36             1  36.175480\n",
       "9      40             1  40.291403"
      ]
     },
     "execution_count": 25,
     "metadata": {},
     "output_type": "execute_result"
    }
   ],
   "source": [
    "pd.DataFrame(data = {'y_init':np.reshape(y,(10,)), 'y_pred_inint':np.reshape(y_new,(10,)), 'y_pred_f':np.reshape(y_new_f,(10,))})"
   ]
  },
  {
   "cell_type": "code",
   "execution_count": null,
   "metadata": {},
   "outputs": [],
   "source": []
  }
 ],
 "metadata": {
  "kernelspec": {
   "display_name": "Python 3",
   "language": "python",
   "name": "python3"
  },
  "language_info": {
   "codemirror_mode": {
    "name": "ipython",
    "version": 3
   },
   "file_extension": ".py",
   "mimetype": "text/x-python",
   "name": "python",
   "nbconvert_exporter": "python",
   "pygments_lexer": "ipython3",
   "version": "3.7.0"
  }
 },
 "nbformat": 4,
 "nbformat_minor": 2
}
